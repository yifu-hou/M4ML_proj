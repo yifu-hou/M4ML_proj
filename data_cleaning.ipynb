{
 "cells": [
  {
   "cell_type": "markdown",
   "metadata": {},
   "source": [
    "### Data Cleaning"
   ]
  },
  {
   "cell_type": "markdown",
   "metadata": {},
   "source": [
    "This is the data cleaning file specifically for raw book rating dataset ratings.csv </p>\n",
    "Please DO NOT MODIFY the code except the variables </p>\n",
    "Ideally: find a manageable sized dataset for book ratings </p>\n",
    "The raw data file ratings.csv should be inside the repo when running this file"
   ]
  },
  {
   "cell_type": "code",
   "execution_count": null,
   "metadata": {},
   "outputs": [],
   "source": [
    "#####################\n",
    "##### LOAD DATA #####\n",
    "#####################\n",
    "\n",
    "import pandas as pd\n",
    "import numpy as np\n",
    "\n",
    "data = pd.read_csv(\"review.csv\", on_bad_lines=\"skip\", delimiter=\";\")\n",
    "data.columns = [\"user_id\", \"book_isbn\", \"rating\"]"
   ]
  },
  {
   "cell_type": "code",
   "execution_count": 4,
   "metadata": {},
   "outputs": [],
   "source": [
    "######################\n",
    "##### REPLACE ID #####\n",
    "######################\n",
    "\n",
    "rated = data[data[\"rating\"] != 0]\n",
    "book_rating_count = {}\n",
    "user_rating_count = {}\n",
    "\n",
    "# hash tables to map new IDs with old IDs\n",
    "for isbn in rated[\"book_isbn\"]:\n",
    "    if isbn not in book_rating_count:\n",
    "        book_rating_count[isbn] = 1\n",
    "    else:\n",
    "        book_rating_count[isbn] += 1\n",
    "\n",
    "for user_id in rated[\"user_id\"]:\n",
    "    if user_id not in user_rating_count:\n",
    "        user_rating_count[user_id] = 1\n",
    "    else:\n",
    "        user_rating_count[user_id] += 1\n",
    "\n",
    "# Replace original IDs with numerical user IDs\n",
    "\n",
    "# USE THIS FUNCTION IF NEED MINIMUM NUMBER OF RATINGS\n",
    "def create_ids(original, min_num):\n",
    "    ids = {}\n",
    "    i = 0\n",
    "    for k, v in original.items():\n",
    "        if v >= min_num:\n",
    "            if k not in ids:\n",
    "                ids[k] = i\n",
    "                i += 1\n",
    "    return ids\n",
    "\n",
    "# USE THIS FUNCTION IF NEED SPECIFIC NUMBER OF RATINGS\n",
    "def create_target_numbered_ids(original, target_num):\n",
    "    ids = {}\n",
    "    i = 0\n",
    "    for k, v in original.items():\n",
    "        if v == target_num:\n",
    "            if k not in ids:\n",
    "                ids[k] = i\n",
    "                i += 1\n",
    "    return ids"
   ]
  },
  {
   "cell_type": "code",
   "execution_count": 5,
   "metadata": {},
   "outputs": [],
   "source": [
    "######################\n",
    "##### GET MATRIX #####\n",
    "######################\n",
    "\n",
    "# ratings: matrix to record book ratngs, \n",
    "# where users as rows and books as columns\n",
    "\n",
    "MIN_RATINGS_FOR_BOOK = 100\n",
    "MIN_RATINGS_FOR_USER = 30\n",
    "\n",
    "book_ids = create_ids(book_rating_count, MIN_RATINGS_FOR_BOOK)\n",
    "user_ids = create_ids(user_rating_count, MIN_RATINGS_FOR_USER)\n",
    "\n",
    "ratings = np.zeros([len(user_ids), len(book_ids)])\n",
    "for _, info in rated.iterrows():\n",
    "    u = info[\"user_id\"]\n",
    "    b = info[\"book_isbn\"]\n",
    "    rate = info[\"rating\"]\n",
    "    if u in user_ids and b in book_ids:\n",
    "        i = user_ids[u]\n",
    "        j = book_ids[b]\n",
    "        ratings[i, j] = rate\n",
    "\n",
    "print(\"The the new incomplete matrix has shape:\")\n",
    "print(ratings.shape)\n",
    "print(\"The sparcity of the new incomplete matrix is:\")\n",
    "print((1 - np.count_nonzero(ratings) / np.size(ratings)))"
   ]
  },
  {
   "cell_type": "code",
   "execution_count": null,
   "metadata": {},
   "outputs": [],
   "source": [
    "#########################\n",
    "##### EXPORT MATRIX #####\n",
    "#########################\n",
    "\n",
    "df = pd.DataFrame(ratings)\n",
    "df.to_csv(\"\") # Write name here "
   ]
  }
 ],
 "metadata": {
  "kernelspec": {
   "display_name": "Python 3.8.10 64-bit",
   "language": "python",
   "name": "python3"
  },
  "language_info": {
   "codemirror_mode": {
    "name": "ipython",
    "version": 3
   },
   "file_extension": ".py",
   "mimetype": "text/x-python",
   "name": "python",
   "nbconvert_exporter": "python",
   "pygments_lexer": "ipython3",
   "version": "3.8.10"
  },
  "orig_nbformat": 4,
  "vscode": {
   "interpreter": {
    "hash": "31f2aee4e71d21fbe5cf8b01ff0e069b9275f58929596ceb00d14d90e3e16cd6"
   }
  }
 },
 "nbformat": 4,
 "nbformat_minor": 2
}
