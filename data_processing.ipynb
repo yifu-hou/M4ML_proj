{
 "cells": [
  {
   "cell_type": "markdown",
   "metadata": {},
   "source": [
    "### Data Cleaning"
   ]
  },
  {
   "cell_type": "code",
   "execution_count": 1,
   "metadata": {},
   "outputs": [],
   "source": [
    "import pandas as pd\n",
    "import numpy as np\n",
    "\n",
    "# from scipy.sparse import csr_matrix\n",
    "# from pandas.api.types import CategoricalDtype"
   ]
  },
  {
   "cell_type": "code",
   "execution_count": 2,
   "metadata": {},
   "outputs": [
    {
     "data": {
      "text/html": [
       "<div>\n",
       "<style scoped>\n",
       "    .dataframe tbody tr th:only-of-type {\n",
       "        vertical-align: middle;\n",
       "    }\n",
       "\n",
       "    .dataframe tbody tr th {\n",
       "        vertical-align: top;\n",
       "    }\n",
       "\n",
       "    .dataframe thead th {\n",
       "        text-align: right;\n",
       "    }\n",
       "</style>\n",
       "<table border=\"1\" class=\"dataframe\">\n",
       "  <thead>\n",
       "    <tr style=\"text-align: right;\">\n",
       "      <th></th>\n",
       "      <th>user_id</th>\n",
       "      <th>book_isbn</th>\n",
       "      <th>rating</th>\n",
       "    </tr>\n",
       "  </thead>\n",
       "  <tbody>\n",
       "    <tr>\n",
       "      <th>0</th>\n",
       "      <td>276725</td>\n",
       "      <td>034545104X</td>\n",
       "      <td>0</td>\n",
       "    </tr>\n",
       "    <tr>\n",
       "      <th>1</th>\n",
       "      <td>276726</td>\n",
       "      <td>0155061224</td>\n",
       "      <td>5</td>\n",
       "    </tr>\n",
       "    <tr>\n",
       "      <th>2</th>\n",
       "      <td>276727</td>\n",
       "      <td>0446520802</td>\n",
       "      <td>0</td>\n",
       "    </tr>\n",
       "    <tr>\n",
       "      <th>3</th>\n",
       "      <td>276729</td>\n",
       "      <td>052165615X</td>\n",
       "      <td>3</td>\n",
       "    </tr>\n",
       "    <tr>\n",
       "      <th>4</th>\n",
       "      <td>276729</td>\n",
       "      <td>0521795028</td>\n",
       "      <td>6</td>\n",
       "    </tr>\n",
       "    <tr>\n",
       "      <th>...</th>\n",
       "      <td>...</td>\n",
       "      <td>...</td>\n",
       "      <td>...</td>\n",
       "    </tr>\n",
       "    <tr>\n",
       "      <th>1149770</th>\n",
       "      <td>276704</td>\n",
       "      <td>1563526298</td>\n",
       "      <td>9</td>\n",
       "    </tr>\n",
       "    <tr>\n",
       "      <th>1149771</th>\n",
       "      <td>276706</td>\n",
       "      <td>0679447156</td>\n",
       "      <td>0</td>\n",
       "    </tr>\n",
       "    <tr>\n",
       "      <th>1149772</th>\n",
       "      <td>276709</td>\n",
       "      <td>0515107662</td>\n",
       "      <td>10</td>\n",
       "    </tr>\n",
       "    <tr>\n",
       "      <th>1149773</th>\n",
       "      <td>276721</td>\n",
       "      <td>0590442449</td>\n",
       "      <td>10</td>\n",
       "    </tr>\n",
       "    <tr>\n",
       "      <th>1149774</th>\n",
       "      <td>276723</td>\n",
       "      <td>05162443314</td>\n",
       "      <td>8</td>\n",
       "    </tr>\n",
       "  </tbody>\n",
       "</table>\n",
       "<p>1149775 rows × 3 columns</p>\n",
       "</div>"
      ],
      "text/plain": [
       "         user_id    book_isbn  rating\n",
       "0         276725   034545104X       0\n",
       "1         276726   0155061224       5\n",
       "2         276727   0446520802       0\n",
       "3         276729   052165615X       3\n",
       "4         276729   0521795028       6\n",
       "...          ...          ...     ...\n",
       "1149770   276704   1563526298       9\n",
       "1149771   276706   0679447156       0\n",
       "1149772   276709   0515107662      10\n",
       "1149773   276721   0590442449      10\n",
       "1149774   276723  05162443314       8\n",
       "\n",
       "[1149775 rows x 3 columns]"
      ]
     },
     "execution_count": 2,
     "metadata": {},
     "output_type": "execute_result"
    }
   ],
   "source": [
    "data = pd.read_csv(\"review.csv\", on_bad_lines=\"skip\", delimiter=\";\")\n",
    "data.columns = [\"user_id\", \"book_isbn\", \"rating\"]\n",
    "data"
   ]
  },
  {
   "cell_type": "code",
   "execution_count": 40,
   "metadata": {},
   "outputs": [],
   "source": [
    "rated = data[data[\"rating\"] != 0]\n",
    "book_rating_count = {}\n",
    "user_rating_count = {}\n",
    "\n",
    "for isbn in rated[\"book_isbn\"]:\n",
    "    if isbn not in book_rating_count:\n",
    "        book_rating_count[isbn] = 1\n",
    "    else:\n",
    "        book_rating_count[isbn] += 1\n",
    "\n",
    "for user_id in rated[\"user_id\"]:\n",
    "    if user_id not in user_rating_count:\n",
    "        user_rating_count[user_id] = 1\n",
    "    else:\n",
    "        user_rating_count[user_id] += 1\n"
   ]
  },
  {
   "cell_type": "code",
   "execution_count": 41,
   "metadata": {},
   "outputs": [],
   "source": [
    "# Replace original IDs with numerical user IDs\n",
    "def create_ids(original, min_num):\n",
    "    ids = {}\n",
    "    i = 0\n",
    "    for k, v in original.items():\n",
    "        if v >= min_num:\n",
    "            if k not in ids:\n",
    "                ids[k] = i\n",
    "                i += 1\n",
    "    return ids\n",
    "\n",
    "book_ids = create_ids(book_rating_count, 10)\n",
    "user_ids = create_ids(user_rating_count, 5)"
   ]
  },
  {
   "cell_type": "code",
   "execution_count": 76,
   "metadata": {},
   "outputs": [],
   "source": [
    "# ratings: matrix to record book ratngs, \n",
    "# where users as rows and books as columns\n",
    "\n",
    "ratings = np.zeros([len(user_ids), len(book_ids)])\n",
    "for _, info in data.iterrows():\n",
    "    u = info[\"user_id\"]\n",
    "    b = info[\"book_isbn\"]\n",
    "    rate = info[\"rating\"]\n",
    "    if u in user_ids and b in book_ids:\n",
    "        i = user_ids[u]\n",
    "        j = book_ids[b]\n",
    "        ratings[i, j] = rate"
   ]
  },
  {
   "cell_type": "code",
   "execution_count": 77,
   "metadata": {},
   "outputs": [],
   "source": [
    "df = pd.DataFrame(ratings)\n",
    "df.to_csv(\"ratings.csv\")"
   ]
  },
  {
   "cell_type": "code",
   "execution_count": 11,
   "metadata": {},
   "outputs": [
    {
     "data": {
      "text/plain": [
       "numpy.ndarray"
      ]
     },
     "execution_count": 11,
     "metadata": {},
     "output_type": "execute_result"
    }
   ],
   "source": [
    "type(data[\"user_id\"].unique())\n",
    "#(data[\"book_isbn\"].unique())"
   ]
  },
  {
   "cell_type": "code",
   "execution_count": 9,
   "metadata": {},
   "outputs": [
    {
     "data": {
      "text/plain": [
       "278854"
      ]
     },
     "execution_count": 9,
     "metadata": {},
     "output_type": "execute_result"
    }
   ],
   "source": [
    "max(data[\"user_id\"])"
   ]
  },
  {
   "cell_type": "code",
   "execution_count": 22,
   "metadata": {},
   "outputs": [],
   "source": [
    "# Numerical book IDs\n",
    "def create_ids(original):\n",
    "    ids = {}\n",
    "    i = 0\n",
    "    for old_id in original:\n",
    "        if old_id not in ids:\n",
    "            ids[old_id] = i\n",
    "            i += 1\n",
    "    return ids\n",
    "\n",
    "book_ids = create_ids(data[\"book_isbn\"])\n",
    "user_ids = create_ids(data[\"user_id\"])"
   ]
  },
  {
   "cell_type": "code",
   "execution_count": 78,
   "metadata": {},
   "outputs": [],
   "source": [
    "# import pandas as pd\n",
    "# import numpy as np\n",
    "\n",
    "# from scipy.sparse import csr_matrix\n",
    "# from pandas.api.types import CategoricalDtype\n",
    "\n",
    "# user_u = list(data.user_id.unique())\n",
    "# book_u = list(data.book_isbn.unique())\n",
    "\n",
    "# user_cat_type = CategoricalDtype(categories=user_u)\n",
    "# book_cat_type = CategoricalDtype(categories=book_u)\n",
    "\n",
    "# row = data.user_id.astype(user_cat_type)\n",
    "# col = data.book_isbn.astype(book_cat_type)\n",
    "\n",
    "# data_clean = data['rating'].tolist()\n",
    "\n",
    "# sparse_matrix = csr_matrix((data, (row, col)), shape=(len(user_u), len(book_u)))\n",
    "\n",
    "# df = pd.SparseDataFrame([ pd.SparseSeries(sparse_matrix[i].toarray().ravel(), fill_value=0) \n",
    "#                               for i in np.arange(sparse_matrix.shape[0]) ], \n",
    "#                        index=user_u, columns=book_u, default_fill_value=0)\n"
   ]
  }
 ],
 "metadata": {
  "kernelspec": {
   "display_name": "Python 3.8.10 64-bit",
   "language": "python",
   "name": "python3"
  },
  "language_info": {
   "codemirror_mode": {
    "name": "ipython",
    "version": 3
   },
   "file_extension": ".py",
   "mimetype": "text/x-python",
   "name": "python",
   "nbconvert_exporter": "python",
   "pygments_lexer": "ipython3",
   "version": "3.8.10"
  },
  "orig_nbformat": 4,
  "vscode": {
   "interpreter": {
    "hash": "31f2aee4e71d21fbe5cf8b01ff0e069b9275f58929596ceb00d14d90e3e16cd6"
   }
  }
 },
 "nbformat": 4,
 "nbformat_minor": 2
}
