{
 "cells": [
  {
   "cell_type": "markdown",
   "metadata": {},
   "source": [
    "### Data Cleaning"
   ]
  },
  {
   "cell_type": "markdown",
   "metadata": {},
   "source": [
    "Ideally: find a manageable sized dataset for book ratings"
   ]
  },
  {
   "cell_type": "code",
   "execution_count": null,
   "metadata": {},
   "outputs": [],
   "source": [
    "import pandas as pd\n",
    "import numpy as np\n",
    "\n",
    "data = pd.read_csv(\"review.csv\", on_bad_lines=\"skip\", delimiter=\";\")\n",
    "data.columns = [\"user_id\", \"book_isbn\", \"rating\"]"
   ]
  },
  {
   "cell_type": "code",
   "execution_count": 2,
   "metadata": {},
   "outputs": [],
   "source": [
    "rated = data[data[\"rating\"] != 0]\n",
    "book_rating_count = {}\n",
    "user_rating_count = {}\n",
    "\n",
    "for isbn in rated[\"book_isbn\"]:\n",
    "    if isbn not in book_rating_count:\n",
    "        book_rating_count[isbn] = 1\n",
    "    else:\n",
    "        book_rating_count[isbn] += 1\n",
    "\n",
    "for user_id in rated[\"user_id\"]:\n",
    "    if user_id not in user_rating_count:\n",
    "        user_rating_count[user_id] = 1\n",
    "    else:\n",
    "        user_rating_count[user_id] += 1"
   ]
  },
  {
   "cell_type": "code",
   "execution_count": 3,
   "metadata": {},
   "outputs": [],
   "source": [
    "# Replace original IDs with numerical user IDs\n",
    "def create_ids(original, min_num):\n",
    "    ids = {}\n",
    "    i = 0\n",
    "    for k, v in original.items():\n",
    "        if v >= min_num:\n",
    "            if k not in ids:\n",
    "                ids[k] = i\n",
    "                i += 1\n",
    "    return ids"
   ]
  },
  {
   "cell_type": "code",
   "execution_count": 11,
   "metadata": {},
   "outputs": [],
   "source": [
    "# ratings: matrix to record book ratngs, \n",
    "# where users as rows and books as columns\n",
    "\n",
    "MIN_RATINGS_FOR_BOOK = 200\n",
    "MIN_RATINGS_FOR_USER = 30\n",
    "\n",
    "book_ids = create_ids(book_rating_count, MIN_RATINGS_FOR_BOOK)\n",
    "user_ids = create_ids(user_rating_count, MIN_RATINGS_FOR_USER)\n",
    "\n",
    "ratings = np.zeros([len(user_ids), len(book_ids)])\n",
    "for _, info in rated.iterrows():\n",
    "    u = info[\"user_id\"]\n",
    "    b = info[\"book_isbn\"]\n",
    "    rate = info[\"rating\"]\n",
    "    if u in user_ids and b in book_ids:\n",
    "        i = user_ids[u]\n",
    "        j = book_ids[b]\n",
    "        ratings[i, j] = rate"
   ]
  },
  {
   "cell_type": "code",
   "execution_count": 12,
   "metadata": {},
   "outputs": [],
   "source": [
    "df = pd.DataFrame(ratings)\n",
    "df.to_csv(\"ratings_pop.csv\")"
   ]
  },
  {
   "cell_type": "code",
   "execution_count": 13,
   "metadata": {},
   "outputs": [
    {
     "data": {
      "text/plain": [
       "(2413, 32)"
      ]
     },
     "execution_count": 13,
     "metadata": {},
     "output_type": "execute_result"
    }
   ],
   "source": [
    "ratings.shape"
   ]
  },
  {
   "cell_type": "code",
   "execution_count": 15,
   "metadata": {},
   "outputs": [
    {
     "name": "stdout",
     "output_type": "stream",
     "text": [
      "The sparcity of the new incomplete matrix is:\n",
      "0.9612645047658517\n"
     ]
    }
   ],
   "source": [
    "print(\"The sparcity of the new incomplete matrix is:\")\n",
    "print((1 - np.count_nonzero(ratings) / np.size(ratings)))"
   ]
  },
  {
   "cell_type": "markdown",
   "metadata": {},
   "source": [
    "##### SVT"
   ]
  },
  {
   "cell_type": "code",
   "execution_count": 14,
   "metadata": {},
   "outputs": [
    {
     "name": "stdout",
     "output_type": "stream",
     "text": [
      "largest singular value is  163.6865411285945\n",
      "Error reduced to  7.934046101680437e-13\n",
      "Get an predicted matrix X\n"
     ]
    }
   ],
   "source": [
    "try_matrix = ratings\n",
    "\n",
    "# set iteration limit k\n",
    "k = 10\n",
    "# set threshold for singular values\n",
    "threshold = 10\n",
    "# set error tolerance\n",
    "max_err = 0.05\n",
    "# value for empty entry\n",
    "VAC = 0\n",
    "\n",
    "n, p = try_matrix.shape\n",
    "\n",
    "for _ in range(k):\n",
    "\n",
    "    # get SVD of the old matrix and threshold singular values\n",
    "    u, s, vh = np.linalg.svd(try_matrix)\n",
    "    print(\"largest singular value is \", np.max(s))\n",
    "    s[s < threshold] = 0\n",
    "\n",
    "    # use remaining singular values build new sigma matrix\n",
    "    new_sigma = np.zeros([n, p])\n",
    "    for idx in range(len(s)):\n",
    "        new_sigma[idx][idx] = s[idx]\n",
    "    \n",
    "    # build new matrix\n",
    "    X_new = u @ new_sigma @ vh\n",
    "\n",
    "    # recover existing entries\n",
    "    for i in range(n):\n",
    "        for j in range(p):\n",
    "            if try_matrix[i][j] != VAC:\n",
    "                X_new[i][j] = try_matrix[i][j]\n",
    "\n",
    "    err = np.linalg.norm(try_matrix - X_new)\n",
    "    print(\"Error reduced to \", err)\n",
    "    if err < max_err:\n",
    "        break\n",
    "    else:\n",
    "        try_matrix = X_new\n",
    "\n",
    "print(\"Get an predicted matrix X\")"
   ]
  },
  {
   "cell_type": "markdown",
   "metadata": {},
   "source": [
    "### Singular Value Thresholding with Jokes (testing on joke rating dataset)\n"
   ]
  },
  {
   "cell_type": "markdown",
   "metadata": {},
   "source": [
    "##### 1. load in dataset"
   ]
  },
  {
   "cell_type": "code",
   "execution_count": 1,
   "metadata": {},
   "outputs": [
    {
     "name": "stdout",
     "output_type": "stream",
     "text": [
      "The training features dataset X_data: (25, 20)\n"
     ]
    }
   ],
   "source": [
    "#python\n",
    "import scipy.io as sio\n",
    "import numpy as np\n",
    "import random\n",
    "import matplotlib.pyplot as plt\n",
    "\n",
    "# load the data matrix X\n",
    "d_jest = sio.loadmat('jesterdata.mat') \n",
    "X = d_jest['X']\n",
    "# load known ratings y and true ratings truey\n",
    "d_new = sio.loadmat('newuser.mat') \n",
    "y = d_new['y']\n",
    "true_y = d_new['truey']\n",
    "# total number of joke ratings should be m = 100, n = 7200\n",
    "m, n = X.shape\n",
    "\n",
    "# train on ratings we know for the new user\n",
    "train_indices = np.squeeze(y != -99) \n",
    "num_train = np.count_nonzero(train_indices)\n",
    "\n",
    "# test on ratings we don’t know\n",
    "test_indices = np.logical_not(train_indices) \n",
    "num_test = m - num_train\n",
    "X_data = X[train_indices , 0:20] \n",
    "y_data = y[train_indices]\n",
    "y_test = true_y[test_indices]\n",
    "\n",
    "print(\"The training features dataset X_data:\", X_data.shape)"
   ]
  },
  {
   "cell_type": "markdown",
   "metadata": {},
   "source": [
    "##### 2. create incomplete data on training dataset"
   ]
  },
  {
   "cell_type": "code",
   "execution_count": 2,
   "metadata": {},
   "outputs": [],
   "source": [
    "def create_imcomplete_matrix(X, sparsity):\n",
    "    '''\n",
    "    X: complete matrix\n",
    "    sparsity: proportion of empty entries, 0 < sparsity < 1\n",
    "    '''\n",
    "    # Make a copy of the original training data\n",
    "    X_incomplete = X.copy()\n",
    "\n",
    "    # Randomly create 20% vacancies inside the matrix \n",
    "    # (automatically round up to an integer)\n",
    "    n, p = X_incomplete.shape\n",
    "\n",
    "    NUM_VAC = int(X_incomplete.size * sparsity)\n",
    "    VAC = -99\n",
    "    pokes = 0\n",
    "\n",
    "    # keep masking random entries in matrix \n",
    "    # until there are NUM_VAC empty entries\n",
    "    while pokes < NUM_VAC:\n",
    "        i = random.randint(0,n-1)\n",
    "        j = random.randint(0,p-1)\n",
    "        if X_incomplete[i,j] != VAC:\n",
    "            pokes += 1\n",
    "            X_incomplete[i,j] = VAC\n",
    "\n",
    "    return X_incomplete\n"
   ]
  },
  {
   "cell_type": "code",
   "execution_count": 3,
   "metadata": {},
   "outputs": [],
   "source": [
    "VAC = - 99\n",
    "\n",
    "def recover_incomplete_matrix(X_incomplete, k=10, threshold=50, max_err=0.5):\n",
    "\n",
    "    n, p = X_incomplete.shape\n",
    "\n",
    "    X_guess = np.zeros([n,p])\n",
    "    for i in range(n):\n",
    "        for j in range(p):\n",
    "            if X_incomplete[i][j] != VAC:\n",
    "                X_guess[i][j] = X_incomplete[i][j]\n",
    "\n",
    "    errors = np.zeros(k)\n",
    "\n",
    "    for ik in range(k):\n",
    "\n",
    "        # get SVD of the old matrix and threshold singular values\n",
    "        u, s, vh = np.linalg.svd(X_guess)\n",
    "        s[s < threshold] = 0\n",
    "\n",
    "        # use remaining singular values build new sigma matrix\n",
    "        new_sigma = np.zeros([n, p])\n",
    "        for idx in range(len(s)):\n",
    "            new_sigma[idx][idx] = s[idx]\n",
    "        \n",
    "        # build new matrix\n",
    "        X_new = u @ new_sigma @ vh\n",
    "        # recover existing entries\n",
    "        for i in range(n):\n",
    "            for j in range(p):\n",
    "                if X_incomplete[i][j] != VAC:\n",
    "                    X_new[i][j] = X_incomplete[i][j]\n",
    "        \n",
    "        err = np.linalg.norm(X_guess - X_new)\n",
    "        errors[ik] = err\n",
    "        # print(\"Error reduced to \", err)\n",
    "        if err < max_err:\n",
    "            break\n",
    "        else:\n",
    "            X_guess = X_new\n",
    "\n",
    "    return X_guess, errors"
   ]
  },
  {
   "cell_type": "markdown",
   "metadata": {},
   "source": [
    "##### Visualizing errors"
   ]
  },
  {
   "cell_type": "code",
   "execution_count": 4,
   "metadata": {},
   "outputs": [],
   "source": [
    "import matplotlib.pyplot as plt\n",
    "\n",
    "k = 20\n",
    "iterations = [ik for ik in range(k)]"
   ]
  },
  {
   "cell_type": "code",
   "execution_count": 20,
   "metadata": {},
   "outputs": [
    {
     "data": {
      "image/png": "[encoded data removed]",
      "text/plain": [
       "<Figure size 432x288 with 1 Axes>"
      ]
     },
     "metadata": {
      "needs_background": "light"
     },
     "output_type": "display_data"
    }
   ],
   "source": [
    "#### Error in relation with sparsity of the matrix\n",
    "\n",
    "sparce = np.linspace(0.1, 0.9, num=5)\n",
    "threshold = 20\n",
    "max_err = 0.05\n",
    "\n",
    "error_record = []\n",
    "\n",
    "for sparsity in sparce:\n",
    "    X = create_imcomplete_matrix(X_data, sparsity)\n",
    "    _, errors = recover_incomplete_matrix(X, k, threshold, max_err)\n",
    "    error_record.append(errors)\n",
    "\n",
    "for i in range(len(sparce)):\n",
    "    sparsity = sparce[i]\n",
    "    line = error_record[i]\n",
    "    plt.plot(iterations, line, label=str(sparsity.round(2)), linewidth =2)\n",
    "plt.xlabel('iteration')\n",
    "plt.ylabel('squared distance from last matrix')\n",
    "plt.title('Error reduction - with different matrix sparsity')\n",
    "plt.legend()\n",
    "plt.show()\n"
   ]
  },
  {
   "cell_type": "code",
   "execution_count": 22,
   "metadata": {},
   "outputs": [
    {
     "data": {
      "image/png": "[encoded data removed]",
      "text/plain": [
       "<Figure size 432x288 with 1 Axes>"
      ]
     },
     "metadata": {
      "needs_background": "light"
     },
     "output_type": "display_data"
    }
   ],
   "source": [
    "#### Error in relation with sparsity of the singular value threshold\n",
    "\n",
    "sparsity = 0.5\n",
    "thresholds = [10, 20, 30, 40, 50]\n",
    "max_err = 0.05\n",
    "\n",
    "error_record = []\n",
    "\n",
    "for t in thresholds:\n",
    "    X = create_imcomplete_matrix(X_data, sparsity)\n",
    "    _, errors = recover_incomplete_matrix(X, k, t, max_err)\n",
    "    error_record.append(errors)\n",
    "\n",
    "for i in range(len(thresholds)):\n",
    "    t = thresholds[i]\n",
    "    line = error_record[i]\n",
    "    plt.plot(iterations, line, label=str(t), linewidth =2)\n",
    "plt.xlabel('singular value threshold')\n",
    "plt.ylabel('squared distance from last matrix')\n",
    "plt.title('Error reduction - with different singular value thresholds')\n",
    "plt.legend()\n",
    "plt.show()\n"
   ]
  },
  {
   "cell_type": "code",
   "execution_count": 28,
   "metadata": {},
   "outputs": [
    {
     "data": {
      "image/png": "[encoded data removed]",
      "text/plain": [
       "<Figure size 432x288 with 1 Axes>"
      ]
     },
     "metadata": {
      "needs_background": "light"
     },
     "output_type": "display_data"
    }
   ],
   "source": [
    "#### Error in relation with sparsity of the singular value threshold\n",
    "\n",
    "sparsity = 0.99\n",
    "threshold = 100\n",
    "max_err = 0.05\n",
    "\n",
    "error_record = []\n",
    "\n",
    "X = create_imcomplete_matrix(X_data, sparsity)\n",
    "_, errors = recover_incomplete_matrix(X, k, t, max_err)\n",
    "\n",
    "plt.plot(iterations, errors, label=str(threshold), linewidth =2)\n",
    "plt.xlabel('singular value threshold')\n",
    "plt.ylabel('squared distance from last matrix')\n",
    "plt.title('Error reduction - with different singular value thresholds')\n",
    "plt.legend()\n",
    "plt.show()\n"
   ]
  }
 ],
 "metadata": {
  "kernelspec": {
   "display_name": "Python 3.8.10 64-bit",
   "language": "python",
   "name": "python3"
  },
  "language_info": {
   "codemirror_mode": {
    "name": "ipython",
    "version": 3
   },
   "file_extension": ".py",
   "mimetype": "text/x-python",
   "name": "python",
   "nbconvert_exporter": "python",
   "pygments_lexer": "ipython3",
   "version": "3.8.10"
  },
  "orig_nbformat": 4,
  "vscode": {
   "interpreter": {
    "hash": "31f2aee4e71d21fbe5cf8b01ff0e069b9275f58929596ceb00d14d90e3e16cd6"
   }
  }
 },
 "nbformat": 4,
 "nbformat_minor": 2
}
