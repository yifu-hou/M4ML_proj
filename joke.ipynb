{
 "cells": [
  {
   "cell_type": "markdown",
   "metadata": {},
   "source": [
    "### Singular Value Thresholding (testing on joke rating dataset)"
   ]
  },
  {
   "cell_type": "markdown",
   "metadata": {},
   "source": [
    "##### 1. load in dataset"
   ]
  },
  {
   "cell_type": "code",
   "execution_count": 14,
   "metadata": {},
   "outputs": [],
   "source": [
    "#python\n",
    "import scipy.io as sio\n",
    "import numpy as np\n",
    "import random\n",
    "import matplotlib.pyplot as plt\n",
    "\n",
    "# load the data matrix X\n",
    "d_jest = sio.loadmat('jesterdata.mat') \n",
    "X = d_jest['X']\n",
    "# load known ratings y and true ratings truey\n",
    "d_new = sio.loadmat('newuser.mat') \n",
    "y = d_new['y']\n",
    "true_y = d_new['truey']\n",
    "# total number of joke ratings should be m = 100, n = 7200\n",
    "m, n = X.shape\n",
    "\n",
    "# train on ratings we know for the new user\n",
    "train_indices = np.squeeze(y != -99) \n",
    "num_train = np.count_nonzero(train_indices)\n",
    "\n",
    "# test on ratings we don’t know\n",
    "test_indices = np.logical_not(train_indices) \n",
    "num_test = m - num_train\n",
    "X_data = X[train_indices , 0:20] \n",
    "y_data = y[train_indices]\n",
    "y_test = true_y[test_indices]"
   ]
  },
  {
   "cell_type": "code",
   "execution_count": 3,
   "metadata": {},
   "outputs": [
    {
     "name": "stdout",
     "output_type": "stream",
     "text": [
      "The training features dataset X_data: (25, 20)\n"
     ]
    }
   ],
   "source": [
    "print(\"The training features dataset X_data:\", X_data.shape)"
   ]
  },
  {
   "cell_type": "markdown",
   "metadata": {},
   "source": [
    "##### 2. create incomplete data on training dataset"
   ]
  },
  {
   "cell_type": "code",
   "execution_count": 46,
   "metadata": {},
   "outputs": [],
   "source": [
    "# Make a copy of the original training data\n",
    "X_incomplete = X_data.copy()\n",
    "\n",
    "# Randomly create 20% vacancies inside the matrix \n",
    "# (automatically round up to an integer)\n",
    "n, p = X_incomplete.shape\n",
    "\n",
    "NUM_VAC = int(X_incomplete.size/5)\n",
    "VAC = -99\n",
    "\n",
    "for _ in range(NUM_VAC):\n",
    "    i = random.randint(0,n-1)\n",
    "    j = random.randint(0,p-1)\n",
    "    X_incomplete[i,j] = VAC\n"
   ]
  },
  {
   "cell_type": "markdown",
   "metadata": {},
   "source": [
    "##### 3. use singular value thresholding to complete the matrix"
   ]
  },
  {
   "cell_type": "code",
   "execution_count": 89,
   "metadata": {},
   "outputs": [],
   "source": [
    "X_guess = np.zeros([n,p])\n",
    "\n",
    "for i in range(n):\n",
    "    for j in range(p):\n",
    "        if X_incomplete[i][j] != VAC:\n",
    "            X_guess[i][j] = X_incomplete[i][j]"
   ]
  },
  {
   "cell_type": "code",
   "execution_count": 90,
   "metadata": {},
   "outputs": [
    {
     "name": "stdout",
     "output_type": "stream",
     "text": [
      "Error reduced to  21.977317204734835\n",
      "Error reduced to  7.207214039346938\n",
      "Error reduced to  3.1457464916538544\n",
      "Error reduced to  1.5580123083340172\n",
      "Error reduced to  0.8206299510602088\n",
      "Error reduced to  0.44815153492995663\n",
      "Get an predicted matrix X\n"
     ]
    }
   ],
   "source": [
    "# set iteration limit k\n",
    "k = 10\n",
    "# set threshold for singular values\n",
    "threshold = 40\n",
    "# set error tolerance\n",
    "max_err = 0.5\n",
    "\n",
    "for _ in range(k):\n",
    "\n",
    "    # get SVD of the old matrix and threshold singular values\n",
    "    u, s, vh = np.linalg.svd(X_guess)\n",
    "    s[s < threshold] = 0\n",
    "\n",
    "    # use remaining singular values build new sigma matrix\n",
    "    new_sigma = np.zeros([n, p])\n",
    "    for idx in range(len(s)):\n",
    "        new_sigma[idx][idx] = s[idx]\n",
    "    \n",
    "    # build new matrix\n",
    "    X_new = u @ new_sigma @ vh\n",
    "    # recover existing entries\n",
    "    for i in range(n):\n",
    "        for j in range(p):\n",
    "            if X_incomplete[i][j] != VAC:\n",
    "                X_new[i][j] = X_incomplete[i][j]\n",
    "    err = np.linalg.norm(X_guess - X_new)\n",
    "    print(\"Error reduced to \", err)\n",
    "    if err < max_err:\n",
    "        break\n",
    "    else:\n",
    "        X_guess = X_new\n",
    "\n",
    "print(\"Get an predicted matrix X\")"
   ]
  }
 ],
 "metadata": {
  "kernelspec": {
   "display_name": "Python 3.8.10 64-bit",
   "language": "python",
   "name": "python3"
  },
  "language_info": {
   "codemirror_mode": {
    "name": "ipython",
    "version": 3
   },
   "file_extension": ".py",
   "mimetype": "text/x-python",
   "name": "python",
   "nbconvert_exporter": "python",
   "pygments_lexer": "ipython3",
   "version": "3.8.10"
  },
  "orig_nbformat": 4,
  "vscode": {
   "interpreter": {
    "hash": "31f2aee4e71d21fbe5cf8b01ff0e069b9275f58929596ceb00d14d90e3e16cd6"
   }
  }
 },
 "nbformat": 4,
 "nbformat_minor": 2
}
